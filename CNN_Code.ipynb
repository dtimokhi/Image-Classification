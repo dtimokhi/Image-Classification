{
 "cells": [
  {
   "cell_type": "code",
   "execution_count": 34,
   "metadata": {},
   "outputs": [],
   "source": [
    "import keras as ks\n",
    "import tensorflow as tf\n",
    "import numpy as np\n",
    "import cv2 as cv\n",
    "import os\n",
    "from PIL import Image\n",
    "from sklearn.model_selection import train_test_split\n",
    "from keras.preprocessing.image import ImageDataGenerator"
   ]
  },
  {
   "cell_type": "code",
   "execution_count": 35,
   "metadata": {},
   "outputs": [],
   "source": [
    "def create_image_data(root):\n",
    "    images = []\n",
    "    for subdir, dirs, files in os.walk(root):\n",
    "        for file in files:\n",
    "            read_file = subdir + \"/\" + file\n",
    "            img = cv.imread(read_file,cv.IMREAD_GRAYSCALE)\n",
    "            if ('ipynb' not in read_file and 'DS' not in read_file):\n",
    "                images.append(img)\n",
    "    return np.array(images)"
   ]
  },
  {
   "cell_type": "markdown",
   "metadata": {},
   "source": [
    "## Data Preprossesing"
   ]
  },
  {
   "cell_type": "markdown",
   "metadata": {},
   "source": [
    "This will generate the image data and normalize the data to be between 0 and 1.\n",
    "Darker pixels will be closer to 0 and lighter pixels will be closer to 0. Furthermore, we are using grey-scale ."
   ]
  },
  {
   "cell_type": "code",
   "execution_count": 36,
   "metadata": {},
   "outputs": [],
   "source": [
    "frown = create_image_data(\"data/60frowns/\")/255\n",
    "smile = create_image_data(\"data/60smiles/\")/255\n",
    "\n",
    "frowns = frown.reshape(frown.shape[0],60,60,1).astype('float32')\n",
    "smiles = smile.reshape(smile.shape[0],60,60,1).astype('float32')\n",
    "\n",
    "X = np.concatenate([frowns, smiles])"
   ]
  },
  {
   "cell_type": "code",
   "execution_count": 37,
   "metadata": {},
   "outputs": [],
   "source": [
    "frowns_y = np.repeat(0, frown.shape[0])\n",
    "smiles_y = np.repeat(1, smile.shape[0])\n",
    "\n",
    "y = np.concatenate([frowns_y,smiles_y])"
   ]
  },
  {
   "cell_type": "markdown",
   "metadata": {},
   "source": [
    "Splits the data intro training and testing sets."
   ]
  },
  {
   "cell_type": "code",
   "execution_count": 38,
   "metadata": {},
   "outputs": [],
   "source": [
    "X_train, X_test, y_train, y_test = train_test_split(X, y, test_size=0.3)"
   ]
  },
  {
   "cell_type": "markdown",
   "metadata": {},
   "source": [
    "Using the ImageDataGenerator we will create additional images for the model to trail on since we only have 360 images."
   ]
  },
  {
   "cell_type": "code",
   "execution_count": 39,
   "metadata": {},
   "outputs": [],
   "source": [
    "img_gen = ImageDataGenerator(rotation_range=20)\n",
    "img_gen.fit(X_train)"
   ]
  },
  {
   "cell_type": "markdown",
   "metadata": {},
   "source": [
    "## CNN Model\n",
    "This will train and build the CNN model. \n",
    "\n",
    "### Layers\n",
    "    1. Convolutional layer: \n",
    "        - Input shape: (60, 60, 1)\n",
    "        - RelU activation function a' = max(0, a) for each pixel\n",
    "        - L2 regularization with a = 0.001, multiply each weight in training by 0.001\n",
    "    2. Pooling layer:\n",
    "        - Pooling size = (3,3)\n",
    "    3. Dense layer (Fully Connected layer):\n",
    "        - Output size of 1\n",
    "        - Sigmoid activation function\n",
    "### Compiling the model\n",
    "    - We will use a binary_crossentropy loss function\n",
    "    - RMsprop optimizer function\n",
    "### Fitting the model\n",
    "#### ImageDataGenerator\n",
    "    - A key detail about our model is that we will be generating 30 new images each epoch during the training of the model."
   ]
  },
  {
   "cell_type": "code",
   "execution_count": 40,
   "metadata": {},
   "outputs": [],
   "source": [
    "from keras.layers import Conv2D, MaxPooling2D, Dense, Flatten, Dropout\n",
    "from keras import regularizers\n",
    "from keras import optimizers"
   ]
  },
  {
   "cell_type": "code",
   "execution_count": 44,
   "metadata": {},
   "outputs": [
    {
     "name": "stdout",
     "output_type": "stream",
     "text": [
      "Epoch 1/10\n",
      "45/45 [==============================] - 2s 39ms/step - loss: 0.5045 - acc: 0.8045\n",
      "Epoch 2/10\n",
      "45/45 [==============================] - 2s 37ms/step - loss: 0.2032 - acc: 0.9407\n",
      "Epoch 3/10\n",
      "45/45 [==============================] - 2s 34ms/step - loss: 0.0858 - acc: 0.9815\n",
      "Epoch 4/10\n",
      "45/45 [==============================] - 2s 34ms/step - loss: 0.0435 - acc: 0.9889\n",
      "Epoch 5/10\n",
      "45/45 [==============================] - 2s 34ms/step - loss: 0.0264 - acc: 0.9948\n",
      "Epoch 6/10\n",
      "45/45 [==============================] - 2s 35ms/step - loss: 0.0154 - acc: 0.9970\n",
      "Epoch 7/10\n",
      "45/45 [==============================] - 2s 34ms/step - loss: 0.0103 - acc: 1.0000\n",
      "Epoch 8/10\n",
      "45/45 [==============================] - 2s 34ms/step - loss: 0.0092 - acc: 0.9993\n",
      "Epoch 9/10\n",
      "45/45 [==============================] - 2s 34ms/step - loss: 0.0070 - acc: 1.0000\n",
      "Epoch 10/10\n",
      "45/45 [==============================] - 2s 34ms/step - loss: 0.0062 - acc: 1.0000\n",
      "108/108 [==============================] - 0s 1ms/step\n"
     ]
    },
    {
     "data": {
      "text/plain": [
       "[0.05919806833413464, 0.9814814814814815]"
      ]
     },
     "execution_count": 44,
     "metadata": {},
     "output_type": "execute_result"
    }
   ],
   "source": [
    "model = ks.Sequential()\n",
    "\n",
    "model.add(Conv2D(filters=15,kernel_size=(6,6),activation='relu', input_shape=(60,60,1), kernel_regularizer=regularizers.l2(0.001)))\n",
    "model.add(MaxPooling2D(pool_size=(2,2)))\n",
    "\n",
    "model.add(Flatten())\n",
    "model.add(Dropout(0.3))\n",
    "model.add(Dense(units=1,activation='sigmoid'))\n",
    "\n",
    "model.compile(loss='binary_crossentropy',optimizer='RMSprop', metrics = ['accuracy'])\n",
    "history_model = model.fit_generator(img_gen.flow(X_train,y_train, batch_size=30),steps_per_epoch=45, epochs=10);\n",
    "history_evaluate = model.evaluate(X_test, y_test);\n",
    "history_evaluate"
   ]
  },
  {
   "cell_type": "code",
   "execution_count": 43,
   "metadata": {},
   "outputs": [
    {
     "name": "stdout",
     "output_type": "stream",
     "text": [
      "_________________________________________________________________\n",
      "Layer (type)                 Output Shape              Param #   \n",
      "=================================================================\n",
      "conv2d_5 (Conv2D)            (None, 55, 55, 15)        555       \n",
      "_________________________________________________________________\n",
      "max_pooling2d_5 (MaxPooling2 (None, 27, 27, 15)        0         \n",
      "_________________________________________________________________\n",
      "flatten_5 (Flatten)          (None, 10935)             0         \n",
      "_________________________________________________________________\n",
      "dropout_5 (Dropout)          (None, 10935)             0         \n",
      "_________________________________________________________________\n",
      "dense_5 (Dense)              (None, 1)                 10936     \n",
      "=================================================================\n",
      "Total params: 11,491\n",
      "Trainable params: 11,491\n",
      "Non-trainable params: 0\n",
      "_________________________________________________________________\n"
     ]
    }
   ],
   "source": [
    "model.summary()"
   ]
  },
  {
   "cell_type": "markdown",
   "metadata": {},
   "source": [
    "## Interesting observations to consider and evaluate"
   ]
  },
  {
   "cell_type": "code",
   "execution_count": 45,
   "metadata": {},
   "outputs": [],
   "source": [
    "frown = create_image_data(\"badfrowns/\")/255\n",
    "smile = create_image_data(\"badsmiles/\")/255\n",
    "\n",
    "frowns = frown.reshape(frown.shape[0],60,60,1).astype('float32')\n",
    "smiles = smile.reshape(smile.shape[0],60,60,1).astype('float32')\n",
    "\n",
    "X = np.concatenate([frowns, smiles])\n",
    "\n",
    "frowns_y = np.repeat(0, frown.shape[0])\n",
    "smiles_y = np.repeat(1, smile.shape[0])\n",
    "\n",
    "y = np.concatenate([frowns_y,smiles_y])"
   ]
  },
  {
   "cell_type": "code",
   "execution_count": 46,
   "metadata": {},
   "outputs": [
    {
     "name": "stdout",
     "output_type": "stream",
     "text": [
      "36/36 [==============================] - 0s 536us/step\n"
     ]
    },
    {
     "data": {
      "text/plain": [
       "[0.31725090079837376, 0.9444444444444444]"
      ]
     },
     "execution_count": 46,
     "metadata": {},
     "output_type": "execute_result"
    }
   ],
   "source": [
    "history_evaluate = model.evaluate(X, y);\n",
    "history_evaluate"
   ]
  },
  {
   "cell_type": "markdown",
   "metadata": {},
   "source": [
    "What about Dekhtyar?"
   ]
  },
  {
   "cell_type": "code",
   "execution_count": 25,
   "metadata": {},
   "outputs": [],
   "source": [
    "dek_happy = create_image_data(\"dekhtyar/\")\n",
    "dek_sadface = create_image_data(\"dekh_sad/\")/255\n",
    "\n",
    "dek_happiness = dek_happy[0].reshape(1,60,60,1).astype('float32')\n",
    "dek_sadfaces = dek_sadface[0].reshape(1,60,60,1).astype('float32')\n",
    "\n",
    "X = np.concatenate([dek_happiness, dek_sadfaces])\n",
    "\n",
    "deks_1_y = np.repeat(0, dek_happiness.shape[0])\n",
    "deks_2_y = np.repeat(1, dek_sadfaces.shape[0])\n",
    "\n",
    "y = np.concatenate([deks_1_y,deks_2_y])"
   ]
  },
  {
   "cell_type": "markdown",
   "metadata": {},
   "source": [
    "First picture fails"
   ]
  },
  {
   "cell_type": "code",
   "execution_count": 26,
   "metadata": {},
   "outputs": [
    {
     "name": "stdout",
     "output_type": "stream",
     "text": [
      "1/1 [==============================] - 0s 2ms/step\n"
     ]
    },
    {
     "data": {
      "text/plain": [
       "[0.0030422767158597708, 1.0]"
      ]
     },
     "execution_count": 26,
     "metadata": {},
     "output_type": "execute_result"
    }
   ],
   "source": [
    "history_evaluate = model.evaluate(dek_happiness,deks_1_y);\n",
    "history_evaluate"
   ]
  },
  {
   "cell_type": "markdown",
   "metadata": {},
   "source": [
    "Second picture fails"
   ]
  },
  {
   "cell_type": "code",
   "execution_count": 27,
   "metadata": {},
   "outputs": [],
   "source": [
    "dek_happiness = dek_happy[1].reshape(1,60,60,1).astype('float32')\n",
    "deks_1_y = np.repeat(0, dek_happiness.shape[0])"
   ]
  },
  {
   "cell_type": "code",
   "execution_count": 28,
   "metadata": {},
   "outputs": [
    {
     "name": "stdout",
     "output_type": "stream",
     "text": [
      "1/1 [==============================] - 0s 2ms/step\n"
     ]
    },
    {
     "data": {
      "text/plain": [
       "[0.0030422767158597708, 1.0]"
      ]
     },
     "execution_count": 28,
     "metadata": {},
     "output_type": "execute_result"
    }
   ],
   "source": [
    "history_evaluate = model.evaluate(dek_happiness,deks_1_y);\n",
    "history_evaluate"
   ]
  },
  {
   "cell_type": "markdown",
   "metadata": {},
   "source": [
    "Third picture success"
   ]
  },
  {
   "cell_type": "code",
   "execution_count": 29,
   "metadata": {},
   "outputs": [],
   "source": [
    "dek_happiness = dek_happy[2].reshape(1,60,60,1).astype('float32')\n",
    "deks_1_y = np.repeat(0, dek_happiness.shape[0])"
   ]
  },
  {
   "cell_type": "code",
   "execution_count": 30,
   "metadata": {},
   "outputs": [
    {
     "name": "stdout",
     "output_type": "stream",
     "text": [
      "1/1 [==============================] - 0s 2ms/step\n"
     ]
    },
    {
     "data": {
      "text/plain": [
       "[0.0030422767158597708, 1.0]"
      ]
     },
     "execution_count": 30,
     "metadata": {},
     "output_type": "execute_result"
    }
   ],
   "source": [
    "history_evaluate = model.evaluate(dek_happiness,deks_1_y);\n",
    "history_evaluate"
   ]
  },
  {
   "cell_type": "markdown",
   "metadata": {},
   "source": [
    "Fourth picture success"
   ]
  },
  {
   "cell_type": "code",
   "execution_count": 31,
   "metadata": {},
   "outputs": [],
   "source": [
    "dek_sadfaces = dek_sadface[0].reshape(1,60,60,1).astype('float32')\n",
    "deks_1_y = np.repeat(0, dek_happiness.shape[0])"
   ]
  },
  {
   "cell_type": "code",
   "execution_count": 32,
   "metadata": {},
   "outputs": [
    {
     "name": "stdout",
     "output_type": "stream",
     "text": [
      "1/1 [==============================] - 0s 4ms/step\n"
     ]
    },
    {
     "data": {
      "text/plain": [
       "[0.49814361333847046, 1.0]"
      ]
     },
     "execution_count": 32,
     "metadata": {},
     "output_type": "execute_result"
    }
   ],
   "source": [
    "history_evaluate = model.evaluate(dek_sadfaces,deks_1_y);\n",
    "history_evaluate"
   ]
  },
  {
   "cell_type": "code",
   "execution_count": null,
   "metadata": {},
   "outputs": [],
   "source": []
  }
 ],
 "metadata": {
  "kernelspec": {
   "display_name": "Python 3",
   "language": "python",
   "name": "python3"
  },
  "language_info": {
   "codemirror_mode": {
    "name": "ipython",
    "version": 3
   },
   "file_extension": ".py",
   "mimetype": "text/x-python",
   "name": "python",
   "nbconvert_exporter": "python",
   "pygments_lexer": "ipython3",
   "version": "3.6.5"
  }
 },
 "nbformat": 4,
 "nbformat_minor": 2
}
