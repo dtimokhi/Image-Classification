{
 "cells": [
  {
   "cell_type": "code",
   "execution_count": 98,
   "metadata": {},
   "outputs": [],
   "source": [
    "import numpy as np\n",
    "import tensorflow as tf\n",
    "import pandas as pd\n",
    "import cv2 as cv\n",
    "import glob\n",
    "import os\n",
    "import copy\n",
    "from sklearn.linear_model import LogisticRegression"
   ]
  },
  {
   "cell_type": "code",
   "execution_count": 99,
   "metadata": {},
   "outputs": [],
   "source": [
    "def create_image_data(root):\n",
    "    images = []\n",
    "    for subdir, dirs, files in os.walk(root):\n",
    "        for file in files:\n",
    "            read_file = subdir + \"/\" + file\n",
    "            img = cv.imread(read_file,cv.IMREAD_GRAYSCALE)\n",
    "            images.append(img.flatten())\n",
    "    return np.array(images)"
   ]
  },
  {
   "cell_type": "code",
   "execution_count": 100,
   "metadata": {},
   "outputs": [],
   "source": [
    "frowns = create_image_data(\"data/60frowns/\")\n",
    "smiles = create_image_data(\"data/60smiles/\")\n",
    "\n",
    "frowns_df = pd.DataFrame(frowns)\n",
    "frowns_df['Class'] = 'Frown'\n",
    "smiles_df = pd.DataFrame(frowns)\n",
    "smiles_df['Class'] = 'Smile'\n",
    "\n",
    "full_df = pd.concat([frowns_df, smiles_df])"
   ]
  }
 ],
 "metadata": {
  "kernelspec": {
   "display_name": "Python 3",
   "language": "python",
   "name": "python3"
  },
  "language_info": {
   "codemirror_mode": {
    "name": "ipython",
    "version": 3
   },
   "file_extension": ".py",
   "mimetype": "text/x-python",
   "name": "python",
   "nbconvert_exporter": "python",
   "pygments_lexer": "ipython3",
   "version": "3.6.5"
  }
 },
 "nbformat": 4,
 "nbformat_minor": 2
}
